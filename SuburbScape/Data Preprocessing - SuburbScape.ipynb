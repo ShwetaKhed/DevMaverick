{
 "cells": [
  {
   "cell_type": "code",
   "execution_count": null,
   "id": "0183d28a",
   "metadata": {},
   "outputs": [],
   "source": [
    "# Import necessary libraries\n",
    "\n",
    "import pandas as pdsS\n",
    "import numpy as np\n",
    "import matplotlib.pyplot as plt"
   ]
  },
  {
   "cell_type": "markdown",
   "id": "8ece2474",
   "metadata": {},
   "source": [
    "# 1) Preprocessing Rent Data"
   ]
  },
  {
   "cell_type": "code",
   "execution_count": null,
   "id": "afbbf549",
   "metadata": {},
   "outputs": [],
   "source": [
    "# Raw dataset as a pandas dataframe\n",
    "\n",
    "path = r\"C:\\Monash\\FIT5120 IE Project\\Open Data\\Raw Data\\rental_raw.xlsx\"\n",
    "rent = pd.read_excel(path)"
   ]
  },
  {
   "cell_type": "code",
   "execution_count": null,
   "id": "67485c3f",
   "metadata": {},
   "outputs": [],
   "source": [
    "# Remove unnecessary columns and rows\n",
    "\n",
    "rent.columns = rent.iloc[0]\n",
    "rent.columns.values[1] = 'LGA'\n",
    "rent.columns.values[193] = 'Rent'\n",
    "rent.columns.values[189] = 'Rent_Sep22'\n",
    "rent = rent.drop([0,1])\n",
    "rent = rent[['LGA', 'Rent_Sep22', 'Rent']]"
   ]
  },
  {
   "cell_type": "code",
   "execution_count": null,
   "id": "ccb6c1e6",
   "metadata": {},
   "outputs": [],
   "source": [
    "# Check for missing values\n",
    "\n",
    "rent[rent['Rent']=='-']\n",
    "\n",
    "# 2 LGAs, Queenscliffe and West Wimmera have missing rent data, therefore, refer to the latest data available,\n",
    "# from Sep 2022, to impute the missing values \n",
    "\n",
    "rent.loc[rent['LGA']=='Queenscliffe', 'Rent']=rent.loc[rent['LGA']=='Queenscliffe', 'Rent_Sep22']\n",
    "rent.loc[rent['LGA']=='West Wimmera', 'Rent']=rent.loc[rent['LGA']=='West Wimmera', 'Rent_Sep22']\n",
    "\n",
    "rent = rent[['LGA', 'Rent']]"
   ]
  },
  {
   "cell_type": "code",
   "execution_count": null,
   "id": "d2e9eaae",
   "metadata": {},
   "outputs": [],
   "source": [
    "# The LGAs comprise of both metropolitan and regional areas, keep only the regional LGAs\n",
    "\n",
    "# List of regional LGAs\n",
    "\n",
    "regional_LGA = [\n",
    "    \"Alpine\", \"Ararat\", \"Ballarat\", \"Bass Coast\", \"Baw Baw\", \"Benalla\", \"Buloke\", \"Campaspe\",\n",
    "    \"Central Goldfields\", \"Colac-Otway\", \"Corangamite\", \"East Gippsland\", \"Gannawarra\",\n",
    "    \"Glenelg\", \"Golden Plains\", \"Greater Bendigo\", \"Greater Geelong\", \"Greater Shepparton\",\n",
    "    \"Hepburn\", \"Hindmarsh\", \"Horsham\", \"Indigo\", \"Latrobe\", \"Loddon\", \"Macedon Ranges\",\n",
    "    \"Mansfield\", \"Mildura\", \"Mitchell\", \"Moira\", \"Moorabool\", \"Mount Alexander\", \"Moyne\",\n",
    "    \"Murrindindi\", \"Northern Grampians\", \"Pyrenees\", \"Queenscliffe\", \"South Gippsland\",\n",
    "    \"Southern Grampians\", \"Strathbogie\", \"Surf Coast\", \"Swan Hill\", \"Towong\", \"Wangaratta\",\n",
    "    \"Warrnambool\", \"Wellington\", \"West Wimmera\", \"Wodonga\", \"Yarriambiack\"\n",
    "]\n",
    "\n",
    "# Create new df containing only regional LGA rent data \n",
    "\n",
    "regional_rent = rent[rent['LGA'].isin(regional_LGA)]\n",
    "regional_rent = regional_rent.reset_index(drop=True)"
   ]
  },
  {
   "cell_type": "markdown",
   "id": "618bcaf7",
   "metadata": {},
   "source": [
    "# 2) Preprocessing Crime Data"
   ]
  },
  {
   "cell_type": "code",
   "execution_count": 290,
   "id": "b4f76962",
   "metadata": {},
   "outputs": [],
   "source": [
    "# Raw dataset as a pandas dataframe\n",
    "\n",
    "path = r\"C:\\Monash\\FIT5120 IE Project\\Open Data\\Raw Data\\crimes_raw.xlsx\"\n",
    "crime = pd.read_excel(path)"
   ]
  },
  {
   "cell_type": "code",
   "execution_count": 292,
   "id": "62dd5a67",
   "metadata": {},
   "outputs": [],
   "source": [
    "# Remove unnecessary rows and columns\n",
    "\n",
    "crime = crime[crime['Year']==2022]\n",
    "crime = crime.drop(crime.columns[0:3], axis=1)\n",
    "crime.columns.values[0] = 'LGA'\n",
    "crime['LGA'] = crime['LGA'].str[1:]\n",
    "\n",
    "# Create new df containing only regional LGA crime data \n",
    "\n",
    "regional_crime = crime[crime['LGA'].isin(regional_LGA)]\n",
    "regional_crime = regional_crime.reset_index(drop=True)"
   ]
  },
  {
   "cell_type": "markdown",
   "id": "5fd0f1ae",
   "metadata": {},
   "source": [
    "# 3) Join the 2 datasets"
   ]
  },
  {
   "cell_type": "code",
   "execution_count": 295,
   "id": "e9710e00",
   "metadata": {},
   "outputs": [],
   "source": [
    "# Use merge to join by the LGA \n",
    "\n",
    "# join = pd.merge(regional_rent, regional_crime, on='LGA')\n",
    "\n",
    "# Import to csv file\n",
    "\n",
    "path = \"C:\\Monash\\FIT5120 IE Project\\Open Data\\output.csv\"\n",
    "join.to_csv(path, index=False)"
   ]
  }
 ],
 "metadata": {
  "kernelspec": {
   "display_name": "Python 3 (ipykernel)",
   "language": "python",
   "name": "python3"
  },
  "language_info": {
   "codemirror_mode": {
    "name": "ipython",
    "version": 3
   },
   "file_extension": ".py",
   "mimetype": "text/x-python",
   "name": "python",
   "nbconvert_exporter": "python",
   "pygments_lexer": "ipython3",
   "version": "3.10.9"
  }
 },
 "nbformat": 4,
 "nbformat_minor": 5
}
